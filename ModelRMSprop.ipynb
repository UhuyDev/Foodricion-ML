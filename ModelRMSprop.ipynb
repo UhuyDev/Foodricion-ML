{
 "cells": [
  {
   "cell_type": "code",
   "execution_count": 1,
   "metadata": {
    "collapsed": true,
    "ExecuteTime": {
     "end_time": "2024-07-03T09:51:25.343000200Z",
     "start_time": "2024-07-03T09:51:22.975984300Z"
    }
   },
   "outputs": [],
   "source": [
    "import tensorflow as tf\n",
    "from keras_preprocessing.image import ImageDataGenerator"
   ]
  },
  {
   "cell_type": "code",
   "execution_count": 2,
   "outputs": [],
   "source": [
    "TRAINING_DIR = \"photos/\"\n",
    "training_datagen = ImageDataGenerator(rescale=1 / 255,\n",
    "                                      validation_split=0.2,\n",
    "                                      horizontal_flip=True,\n",
    "                                      shear_range=0.2)"
   ],
   "metadata": {
    "collapsed": false,
    "ExecuteTime": {
     "end_time": "2024-07-03T09:51:33.845969700Z",
     "start_time": "2024-07-03T09:51:33.830854100Z"
    }
   }
  },
  {
   "cell_type": "code",
   "execution_count": 3,
   "outputs": [
    {
     "name": "stdout",
     "output_type": "stream",
     "text": [
      "Found 1344 images belonging to 11 classes.\n",
      "Found 329 images belonging to 11 classes.\n"
     ]
    }
   ],
   "source": [
    "# Make sure you used \"categorical\"\n",
    "train_generator = training_datagen.flow_from_directory(TRAINING_DIR,\n",
    "                                                       target_size=(200, 150),\n",
    "                                                       batch_size=32,\n",
    "                                                       shuffle=True,\n",
    "                                                       class_mode='categorical',\n",
    "                                                       subset='training')\n",
    "\n",
    "validation_generator = training_datagen.flow_from_directory(TRAINING_DIR,\n",
    "                                                            target_size=(200, 150),\n",
    "                                                            batch_size=32,\n",
    "                                                            shuffle=False,\n",
    "                                                            class_mode='categorical',\n",
    "                                                            subset='validation')"
   ],
   "metadata": {
    "collapsed": false,
    "ExecuteTime": {
     "end_time": "2024-07-03T09:51:53.128597100Z",
     "start_time": "2024-07-03T09:51:53.040011400Z"
    }
   }
  },
  {
   "cell_type": "code",
   "execution_count": 7,
   "outputs": [],
   "source": [
    "model = tf.keras.models.Sequential([\n",
    "    tf.keras.layers.Conv2D(16, (3, 3), activation='relu', input_shape=(200, 150, 3)),\n",
    "    tf.keras.layers.MaxPooling2D(2, 2),\n",
    "    tf.keras.layers.Conv2D(32, (3, 3), activation='relu'),\n",
    "    tf.keras.layers.MaxPooling2D(2, 2),\n",
    "    tf.keras.layers.BatchNormalization(),\n",
    "    tf.keras.layers.Flatten(),\n",
    "    tf.keras.layers.Dense(512, activation='relu'),\n",
    "    tf.keras.layers.Dense(256, activation='relu'),\n",
    "    tf.keras.layers.Dense(128, activation='relu'),\n",
    "    tf.keras.layers.Dense(11, activation='softmax')\n",
    "])"
   ],
   "metadata": {
    "collapsed": false,
    "ExecuteTime": {
     "end_time": "2024-07-03T09:53:33.542894400Z",
     "start_time": "2024-07-03T09:53:33.536729900Z"
    }
   }
  },
  {
   "cell_type": "code",
   "execution_count": 8,
   "outputs": [
    {
     "name": "stdout",
     "output_type": "stream",
     "text": [
      "Model: \"sequential_2\"\n",
      "_________________________________________________________________\n",
      " Layer (type)                Output Shape              Param #   \n",
      "=================================================================\n",
      " conv2d_5 (Conv2D)           (None, 198, 148, 16)      448       \n",
      "                                                                 \n",
      " max_pooling2d_5 (MaxPoolin  (None, 99, 74, 16)        0         \n",
      " g2D)                                                            \n",
      "                                                                 \n",
      " conv2d_6 (Conv2D)           (None, 97, 72, 32)        4640      \n",
      "                                                                 \n",
      " max_pooling2d_6 (MaxPoolin  (None, 48, 36, 32)        0         \n",
      " g2D)                                                            \n",
      "                                                                 \n",
      " batch_normalization_5 (Bat  (None, 48, 36, 32)        128       \n",
      " chNormalization)                                                \n",
      "                                                                 \n",
      " flatten_2 (Flatten)         (None, 55296)             0         \n",
      "                                                                 \n",
      " dense_8 (Dense)             (None, 512)               28312064  \n",
      "                                                                 \n",
      " dense_9 (Dense)             (None, 256)               131328    \n",
      "                                                                 \n",
      " dense_10 (Dense)            (None, 128)               32896     \n",
      "                                                                 \n",
      " dense_11 (Dense)            (None, 11)                1419      \n",
      "                                                                 \n",
      "=================================================================\n",
      "Total params: 28482923 (108.65 MB)\n",
      "Trainable params: 28482859 (108.65 MB)\n",
      "Non-trainable params: 64 (256.00 Byte)\n",
      "_________________________________________________________________\n"
     ]
    }
   ],
   "source": [
    "model.summary()"
   ],
   "metadata": {
    "collapsed": false,
    "ExecuteTime": {
     "end_time": "2024-07-03T09:53:34.701674700Z",
     "start_time": "2024-07-03T09:53:34.674679500Z"
    }
   }
  },
  {
   "cell_type": "code",
   "execution_count": 9,
   "outputs": [
    {
     "name": "stderr",
     "output_type": "stream",
     "text": [
      "WARNING:absl:`lr` is deprecated in Keras optimizer, please use `learning_rate` or use the legacy optimizer, e.g.,tf.keras.optimizers.legacy.RMSprop.\n"
     ]
    },
    {
     "name": "stdout",
     "output_type": "stream",
     "text": [
      "Epoch 1/50\n",
      "42/42 [==============================] - 14s 309ms/step - loss: 3.6956 - accuracy: 0.3199 - val_loss: 2.2760 - val_accuracy: 0.1884\n",
      "Epoch 2/50\n",
      "42/42 [==============================] - 13s 298ms/step - loss: 1.3630 - accuracy: 0.5610 - val_loss: 2.2656 - val_accuracy: 0.1702\n",
      "Epoch 3/50\n",
      "42/42 [==============================] - 13s 305ms/step - loss: 0.8737 - accuracy: 0.7180 - val_loss: 2.1412 - val_accuracy: 0.2736\n",
      "Epoch 4/50\n",
      "42/42 [==============================] - 13s 308ms/step - loss: 0.6133 - accuracy: 0.8103 - val_loss: 2.0457 - val_accuracy: 0.3982\n",
      "Epoch 5/50\n",
      "42/42 [==============================] - 13s 320ms/step - loss: 0.3997 - accuracy: 0.8810 - val_loss: 1.9166 - val_accuracy: 0.4286\n",
      "Epoch 6/50\n",
      "42/42 [==============================] - 14s 334ms/step - loss: 0.3384 - accuracy: 0.8966 - val_loss: 1.7101 - val_accuracy: 0.4620\n",
      "Epoch 7/50\n",
      "42/42 [==============================] - 14s 326ms/step - loss: 0.2349 - accuracy: 0.9293 - val_loss: 2.0339 - val_accuracy: 0.2644\n",
      "Epoch 8/50\n",
      "42/42 [==============================] - 14s 326ms/step - loss: 0.1917 - accuracy: 0.9487 - val_loss: 1.6004 - val_accuracy: 0.5015\n",
      "Epoch 9/50\n",
      "42/42 [==============================] - 14s 329ms/step - loss: 0.2278 - accuracy: 0.9472 - val_loss: 2.5781 - val_accuracy: 0.2492\n",
      "Epoch 10/50\n",
      "42/42 [==============================] - 14s 337ms/step - loss: 0.0389 - accuracy: 0.9896 - val_loss: 2.8955 - val_accuracy: 0.3921\n",
      "Epoch 11/50\n",
      "42/42 [==============================] - 14s 338ms/step - loss: 0.1596 - accuracy: 0.9613 - val_loss: 2.4440 - val_accuracy: 0.3799\n",
      "Epoch 12/50\n",
      "42/42 [==============================] - 14s 332ms/step - loss: 0.1005 - accuracy: 0.9740 - val_loss: 3.7269 - val_accuracy: 0.2553\n",
      "Epoch 13/50\n",
      "42/42 [==============================] - 14s 335ms/step - loss: 0.2001 - accuracy: 0.9554 - val_loss: 6.0192 - val_accuracy: 0.2827\n",
      "Epoch 14/50\n",
      "42/42 [==============================] - 14s 339ms/step - loss: 0.0596 - accuracy: 0.9836 - val_loss: 4.7603 - val_accuracy: 0.4134\n",
      "Epoch 15/50\n",
      "42/42 [==============================] - 14s 341ms/step - loss: 0.0457 - accuracy: 0.9881 - val_loss: 3.9073 - val_accuracy: 0.4073\n",
      "Epoch 16/50\n",
      "42/42 [==============================] - 15s 345ms/step - loss: 0.0632 - accuracy: 0.9799 - val_loss: 6.4779 - val_accuracy: 0.4103\n",
      "Epoch 17/50\n",
      "42/42 [==============================] - 15s 347ms/step - loss: 0.1227 - accuracy: 0.9732 - val_loss: 5.6343 - val_accuracy: 0.4802\n",
      "Epoch 18/50\n",
      "42/42 [==============================] - 15s 347ms/step - loss: 0.1115 - accuracy: 0.9784 - val_loss: 5.4811 - val_accuracy: 0.4164\n",
      "Epoch 19/50\n",
      "42/42 [==============================] - 15s 347ms/step - loss: 0.1197 - accuracy: 0.9769 - val_loss: 4.4148 - val_accuracy: 0.4954\n",
      "Epoch 20/50\n",
      "42/42 [==============================] - 15s 349ms/step - loss: 0.1258 - accuracy: 0.9792 - val_loss: 8.5164 - val_accuracy: 0.3435\n",
      "Epoch 21/50\n",
      "42/42 [==============================] - 15s 357ms/step - loss: 0.0741 - accuracy: 0.9799 - val_loss: 10.5100 - val_accuracy: 0.3891\n",
      "Epoch 22/50\n",
      "42/42 [==============================] - 22s 526ms/step - loss: 0.0799 - accuracy: 0.9829 - val_loss: 4.7844 - val_accuracy: 0.5015\n",
      "Epoch 23/50\n",
      "42/42 [==============================] - 16s 376ms/step - loss: 0.0898 - accuracy: 0.9769 - val_loss: 7.1424 - val_accuracy: 0.4134\n",
      "Epoch 24/50\n",
      "42/42 [==============================] - 15s 354ms/step - loss: 0.1149 - accuracy: 0.9821 - val_loss: 10.1387 - val_accuracy: 0.4377\n",
      "Epoch 25/50\n",
      "42/42 [==============================] - 15s 356ms/step - loss: 0.0514 - accuracy: 0.9903 - val_loss: 8.4039 - val_accuracy: 0.3951\n",
      "Epoch 26/50\n",
      "42/42 [==============================] - 20s 476ms/step - loss: 0.1639 - accuracy: 0.9695 - val_loss: 6.3590 - val_accuracy: 0.4681\n",
      "Epoch 27/50\n",
      "42/42 [==============================] - 21s 502ms/step - loss: 0.0627 - accuracy: 0.9851 - val_loss: 6.1122 - val_accuracy: 0.4438\n",
      "Epoch 28/50\n",
      "42/42 [==============================] - 19s 458ms/step - loss: 0.1229 - accuracy: 0.9784 - val_loss: 4.9739 - val_accuracy: 0.4468\n",
      "Epoch 29/50\n",
      "42/42 [==============================] - 16s 368ms/step - loss: 0.0669 - accuracy: 0.9881 - val_loss: 12.7206 - val_accuracy: 0.3313\n",
      "Epoch 30/50\n",
      "42/42 [==============================] - 16s 389ms/step - loss: 0.0938 - accuracy: 0.9799 - val_loss: 6.9912 - val_accuracy: 0.3495\n",
      "Epoch 31/50\n",
      "42/42 [==============================] - 16s 379ms/step - loss: 0.0603 - accuracy: 0.9874 - val_loss: 8.4605 - val_accuracy: 0.4043\n",
      "Epoch 32/50\n",
      "42/42 [==============================] - 15s 367ms/step - loss: 0.0381 - accuracy: 0.9911 - val_loss: 9.9843 - val_accuracy: 0.3830\n",
      "Epoch 33/50\n",
      "42/42 [==============================] - 16s 369ms/step - loss: 0.0378 - accuracy: 0.9933 - val_loss: 16.3201 - val_accuracy: 0.3739\n",
      "Epoch 34/50\n",
      "42/42 [==============================] - 18s 421ms/step - loss: 0.0809 - accuracy: 0.9814 - val_loss: 10.1709 - val_accuracy: 0.3161\n",
      "Epoch 35/50\n",
      "42/42 [==============================] - 22s 525ms/step - loss: 0.0327 - accuracy: 0.9940 - val_loss: 12.5766 - val_accuracy: 0.3678\n",
      "Epoch 36/50\n",
      "42/42 [==============================] - 17s 405ms/step - loss: 0.1425 - accuracy: 0.9851 - val_loss: 8.5518 - val_accuracy: 0.3739\n",
      "Epoch 37/50\n",
      "42/42 [==============================] - 17s 408ms/step - loss: 0.0613 - accuracy: 0.9866 - val_loss: 7.8365 - val_accuracy: 0.4620\n",
      "Epoch 38/50\n",
      "42/42 [==============================] - 18s 433ms/step - loss: 0.0489 - accuracy: 0.9874 - val_loss: 19.8096 - val_accuracy: 0.3343\n",
      "Epoch 39/50\n",
      "42/42 [==============================] - 16s 386ms/step - loss: 0.0806 - accuracy: 0.9874 - val_loss: 10.8866 - val_accuracy: 0.4802\n",
      "Epoch 40/50\n",
      "42/42 [==============================] - 18s 421ms/step - loss: 0.1350 - accuracy: 0.9762 - val_loss: 14.2018 - val_accuracy: 0.3647\n",
      "Epoch 41/50\n",
      "42/42 [==============================] - 16s 380ms/step - loss: 0.0802 - accuracy: 0.9903 - val_loss: 11.4114 - val_accuracy: 0.4833\n",
      "Epoch 42/50\n",
      "42/42 [==============================] - 21s 501ms/step - loss: 0.0931 - accuracy: 0.9844 - val_loss: 8.8420 - val_accuracy: 0.4802\n",
      "Epoch 43/50\n",
      "42/42 [==============================] - 22s 523ms/step - loss: 0.0919 - accuracy: 0.9881 - val_loss: 6.1219 - val_accuracy: 0.4772\n",
      "Epoch 44/50\n",
      "42/42 [==============================] - 23s 555ms/step - loss: 0.0790 - accuracy: 0.9859 - val_loss: 24.1885 - val_accuracy: 0.3131\n",
      "Epoch 45/50\n",
      "42/42 [==============================] - 22s 529ms/step - loss: 0.0520 - accuracy: 0.9903 - val_loss: 5.7861 - val_accuracy: 0.4711\n",
      "Epoch 46/50\n",
      "42/42 [==============================] - 22s 523ms/step - loss: 0.0653 - accuracy: 0.9851 - val_loss: 11.0417 - val_accuracy: 0.4498\n",
      "Epoch 47/50\n",
      "42/42 [==============================] - 22s 533ms/step - loss: 0.1076 - accuracy: 0.9844 - val_loss: 18.1245 - val_accuracy: 0.3526\n",
      "Epoch 48/50\n",
      "42/42 [==============================] - 23s 536ms/step - loss: 0.0606 - accuracy: 0.9866 - val_loss: 27.2307 - val_accuracy: 0.2736\n",
      "Epoch 49/50\n",
      "42/42 [==============================] - 23s 536ms/step - loss: 0.0666 - accuracy: 0.9866 - val_loss: 16.5348 - val_accuracy: 0.4073\n",
      "Epoch 50/50\n",
      "42/42 [==============================] - 21s 497ms/step - loss: 0.1059 - accuracy: 0.9836 - val_loss: 9.8423 - val_accuracy: 0.3830\n"
     ]
    },
    {
     "data": {
      "text/plain": "<keras.src.callbacks.History at 0x2353c405dc0>"
     },
     "execution_count": 9,
     "metadata": {},
     "output_type": "execute_result"
    }
   ],
   "source": [
    "model.compile(optimizer=tf.optimizers.RMSprop(lr=0.0001), loss='categorical_crossentropy', metrics=['accuracy'])\n",
    "model.fit(train_generator,\n",
    "          epochs=50,\n",
    "          validation_data=validation_generator,\n",
    "          verbose=1)"
   ],
   "metadata": {
    "collapsed": false,
    "ExecuteTime": {
     "end_time": "2024-07-03T10:10:11.556099100Z",
     "start_time": "2024-07-03T09:56:01.257596400Z"
    }
   }
  },
  {
   "cell_type": "code",
   "execution_count": 10,
   "outputs": [
    {
     "name": "stderr",
     "output_type": "stream",
     "text": [
      "C:\\Users\\LENOVO\\venv\\lib\\site-packages\\keras\\src\\engine\\training.py:3000: UserWarning: You are saving your model as an HDF5 file via `model.save()`. This file format is considered legacy. We recommend using instead the native Keras format, e.g. `model.save('my_model.keras')`.\n",
      "  saving_api.save_model(\n"
     ]
    }
   ],
   "source": [
    "model.save('FoodModeloptRMSprop.h5')"
   ],
   "metadata": {
    "collapsed": false,
    "ExecuteTime": {
     "end_time": "2024-07-03T10:11:14.226100800Z",
     "start_time": "2024-07-03T10:11:13.981715700Z"
    }
   }
  },
  {
   "cell_type": "code",
   "execution_count": null,
   "outputs": [],
   "source": [],
   "metadata": {
    "collapsed": false
   }
  }
 ],
 "metadata": {
  "kernelspec": {
   "display_name": "Python 3",
   "language": "python",
   "name": "python3"
  },
  "language_info": {
   "codemirror_mode": {
    "name": "ipython",
    "version": 2
   },
   "file_extension": ".py",
   "mimetype": "text/x-python",
   "name": "python",
   "nbconvert_exporter": "python",
   "pygments_lexer": "ipython2",
   "version": "2.7.6"
  }
 },
 "nbformat": 4,
 "nbformat_minor": 0
}
