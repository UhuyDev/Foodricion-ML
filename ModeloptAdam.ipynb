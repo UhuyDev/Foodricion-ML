{
 "cells": [
  {
   "cell_type": "code",
   "execution_count": 6,
   "metadata": {
    "collapsed": true,
    "ExecuteTime": {
     "end_time": "2024-06-24T11:25:37.212357400Z",
     "start_time": "2024-06-24T11:25:37.202329100Z"
    }
   },
   "outputs": [],
   "source": [
    "import tensorflow as tf\n",
    "from keras_preprocessing.image import ImageDataGenerator"
   ]
  },
  {
   "cell_type": "code",
   "execution_count": 7,
   "outputs": [],
   "source": [
    "TRAINING_DIR = \"photos/\""
   ],
   "metadata": {
    "collapsed": false,
    "ExecuteTime": {
     "end_time": "2024-06-24T11:25:37.242499200Z",
     "start_time": "2024-06-24T11:25:37.212357400Z"
    }
   }
  },
  {
   "cell_type": "code",
   "execution_count": 8,
   "outputs": [
    {
     "name": "stdout",
     "output_type": "stream",
     "text": [
      "Found 1344 images belonging to 11 classes.\n",
      "Found 329 images belonging to 11 classes.\n"
     ]
    }
   ],
   "source": [
    "training_datagen = ImageDataGenerator(rescale=1/255,\n",
    "                                      validation_split=0.2,\n",
    "                                      horizontal_flip=True,\n",
    "                                      shear_range=0.2)\n",
    "\n",
    "# YOUR IMAGE SIZE SHOULD BE 150x150\n",
    "# Make sure you used \"categorical\"\n",
    "train_generator= training_datagen.flow_from_directory(TRAINING_DIR,\n",
    "                                                      target_size=(200,150),\n",
    "                                                      batch_size=32,\n",
    "                                                      shuffle=True,\n",
    "                                                      class_mode='categorical',\n",
    "                                                      subset='training')\n",
    "\n",
    "validation_generator= training_datagen.flow_from_directory(TRAINING_DIR,\n",
    "                                                           target_size=(200, 150),\n",
    "                                                           batch_size=32,\n",
    "                                                           shuffle=False,\n",
    "                                                           class_mode='categorical',\n",
    "                                                           subset='validation')"
   ],
   "metadata": {
    "collapsed": false,
    "ExecuteTime": {
     "end_time": "2024-06-24T11:25:37.322759800Z",
     "start_time": "2024-06-24T11:25:37.222464800Z"
    }
   }
  },
  {
   "cell_type": "code",
   "execution_count": 9,
   "outputs": [],
   "source": [
    "model=tf.keras.models.Sequential([\n",
    "    tf.keras.layers.Conv2D(16, (3, 3), activation='relu', input_shape=(200, 150, 3)),\n",
    "    tf.keras.layers.MaxPooling2D(2,2),\n",
    "    tf.keras.layers.BatchNormalization(),\n",
    "    tf.keras.layers.Conv2D(32, (3, 3), activation='relu'),\n",
    "    tf.keras.layers.MaxPooling2D(2, 2),\n",
    "    tf.keras.layers.BatchNormalization(),\n",
    "    tf.keras.layers.Conv2D(64, (3, 3), activation='relu'),\n",
    "    tf.keras.layers.MaxPooling2D(2, 2),\n",
    "    tf.keras.layers.BatchNormalization(),\n",
    "    tf.keras.layers.Flatten(),\n",
    "    tf.keras.layers.Dense(512, activation='relu'),\n",
    "    tf.keras.layers.Dense(256, activation='relu'),\n",
    "    tf.keras.layers.Dense(128, activation='relu'),\n",
    "    tf.keras.layers.Dense(11, activation='softmax')\n",
    "    ])"
   ],
   "metadata": {
    "collapsed": false,
    "ExecuteTime": {
     "end_time": "2024-06-24T11:25:37.752729400Z",
     "start_time": "2024-06-24T11:25:37.322759800Z"
    }
   }
  },
  {
   "cell_type": "code",
   "execution_count": 10,
   "outputs": [
    {
     "name": "stdout",
     "output_type": "stream",
     "text": [
      "Epoch 1/20\n",
      "42/42 [==============================] - 29s 630ms/step - loss: 2.3477 - accuracy: 0.3296 - val_loss: 2.4854 - val_accuracy: 0.1611\n",
      "Epoch 2/20\n",
      "42/42 [==============================] - 27s 634ms/step - loss: 1.3818 - accuracy: 0.5722 - val_loss: 3.3585 - val_accuracy: 0.0669\n",
      "Epoch 3/20\n",
      "42/42 [==============================] - 29s 679ms/step - loss: 0.9086 - accuracy: 0.6890 - val_loss: 3.9527 - val_accuracy: 0.1793\n",
      "Epoch 4/20\n",
      "42/42 [==============================] - 27s 653ms/step - loss: 0.6473 - accuracy: 0.7946 - val_loss: 4.0756 - val_accuracy: 0.2553\n",
      "Epoch 5/20\n",
      "42/42 [==============================] - 28s 671ms/step - loss: 0.5425 - accuracy: 0.8244 - val_loss: 4.6809 - val_accuracy: 0.1976\n",
      "Epoch 6/20\n",
      "42/42 [==============================] - 31s 737ms/step - loss: 0.3487 - accuracy: 0.8862 - val_loss: 6.2053 - val_accuracy: 0.2158\n",
      "Epoch 7/20\n",
      "42/42 [==============================] - 28s 671ms/step - loss: 0.2908 - accuracy: 0.9137 - val_loss: 3.2919 - val_accuracy: 0.2948\n",
      "Epoch 8/20\n",
      "42/42 [==============================] - 27s 640ms/step - loss: 0.2612 - accuracy: 0.9241 - val_loss: 5.8601 - val_accuracy: 0.2249\n",
      "Epoch 9/20\n",
      "42/42 [==============================] - 28s 678ms/step - loss: 0.2716 - accuracy: 0.9174 - val_loss: 3.4770 - val_accuracy: 0.3100\n",
      "Epoch 10/20\n",
      "42/42 [==============================] - 28s 660ms/step - loss: 0.1554 - accuracy: 0.9568 - val_loss: 3.3511 - val_accuracy: 0.3343\n",
      "Epoch 11/20\n",
      "42/42 [==============================] - 27s 634ms/step - loss: 0.1748 - accuracy: 0.9516 - val_loss: 3.2960 - val_accuracy: 0.3465\n",
      "Epoch 12/20\n",
      "42/42 [==============================] - 29s 681ms/step - loss: 0.1919 - accuracy: 0.9405 - val_loss: 2.0449 - val_accuracy: 0.4316\n",
      "Epoch 13/20\n",
      "42/42 [==============================] - 28s 663ms/step - loss: 0.0950 - accuracy: 0.9732 - val_loss: 2.6466 - val_accuracy: 0.5046\n",
      "Epoch 14/20\n",
      "42/42 [==============================] - 27s 640ms/step - loss: 0.0957 - accuracy: 0.9754 - val_loss: 2.2397 - val_accuracy: 0.5258\n",
      "Epoch 15/20\n",
      "42/42 [==============================] - 27s 646ms/step - loss: 0.0626 - accuracy: 0.9784 - val_loss: 2.4285 - val_accuracy: 0.5228\n",
      "Epoch 16/20\n",
      "42/42 [==============================] - 29s 697ms/step - loss: 0.1135 - accuracy: 0.9688 - val_loss: 2.1926 - val_accuracy: 0.5319\n",
      "Epoch 17/20\n",
      "42/42 [==============================] - 28s 667ms/step - loss: 0.1454 - accuracy: 0.9680 - val_loss: 2.5475 - val_accuracy: 0.5015\n",
      "Epoch 18/20\n",
      "42/42 [==============================] - 26s 623ms/step - loss: 0.1916 - accuracy: 0.9435 - val_loss: 2.4156 - val_accuracy: 0.5623\n",
      "Epoch 19/20\n",
      "42/42 [==============================] - 28s 671ms/step - loss: 0.1472 - accuracy: 0.9568 - val_loss: 2.5220 - val_accuracy: 0.5167\n",
      "Epoch 20/20\n",
      "42/42 [==============================] - 29s 683ms/step - loss: 0.1972 - accuracy: 0.9598 - val_loss: 3.1473 - val_accuracy: 0.5046\n"
     ]
    },
    {
     "data": {
      "text/plain": "<keras.src.callbacks.History at 0x2953a3d4730>"
     },
     "execution_count": 10,
     "metadata": {},
     "output_type": "execute_result"
    }
   ],
   "source": [
    "model.compile(optimizer='adam', loss='categorical_crossentropy', metrics=['accuracy'])\n",
    "model.fit(train_generator,\n",
    "          epochs=20,\n",
    "          validation_data=validation_generator,\n",
    "          verbose=1)"
   ],
   "metadata": {
    "collapsed": false,
    "ExecuteTime": {
     "end_time": "2024-06-24T11:34:58.773295600Z",
     "start_time": "2024-06-24T11:25:37.757751100Z"
    }
   }
  },
  {
   "cell_type": "code",
   "execution_count": 11,
   "outputs": [
    {
     "name": "stderr",
     "output_type": "stream",
     "text": [
      "C:\\Users\\LENOVO\\venv\\lib\\site-packages\\keras\\src\\engine\\training.py:3000: UserWarning: You are saving your model as an HDF5 file via `model.save()`. This file format is considered legacy. We recommend using instead the native Keras format, e.g. `model.save('my_model.keras')`.\n",
      "  saving_api.save_model(\n"
     ]
    }
   ],
   "source": [
    "model.save(\"FoodModeloptAdam.h5\")"
   ],
   "metadata": {
    "collapsed": false,
    "ExecuteTime": {
     "end_time": "2024-06-24T11:34:59.273922400Z",
     "start_time": "2024-06-24T11:34:58.736554800Z"
    }
   }
  }
 ],
 "metadata": {
  "kernelspec": {
   "display_name": "Python 3",
   "language": "python",
   "name": "python3"
  },
  "language_info": {
   "codemirror_mode": {
    "name": "ipython",
    "version": 2
   },
   "file_extension": ".py",
   "mimetype": "text/x-python",
   "name": "python",
   "nbconvert_exporter": "python",
   "pygments_lexer": "ipython2",
   "version": "2.7.6"
  }
 },
 "nbformat": 4,
 "nbformat_minor": 0
}
